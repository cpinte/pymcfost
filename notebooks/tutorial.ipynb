{
 "cells": [
  {
   "cell_type": "markdown",
   "metadata": {},
   "source": [
    "# pymcfost tutorial\n",
    "\n",
    "\n",
    "This notebook illustrate some of the main capabilities of pymcfost to run and explore mcfost models. We assume here that you are already familiar with the use of mcfost\n",
    "\n",
    "We first perform basic imports.\n",
    "The python package is named pymcfost to avoid confusion with mcfost itself, but we import it as mcfost for convenience."
   ]
  },
  {
   "cell_type": "code",
   "execution_count": null,
   "metadata": {},
   "outputs": [],
   "source": [
    "%matplotlib inline\n",
    "import matplotlib.pyplot as plt\n",
    "import pymcfost as mcfost"
   ]
  },
  {
   "cell_type": "markdown",
   "metadata": {},
   "source": [
    "## Running a mcfost model\n",
    "\n",
    "\n",
    "``mcfost.run`` performs a system call and run the mcfost binary, assuming it is available in your system path.\n",
    "\n",
    "We make sure to delete any potential previous model.\n",
    "Note that when running pymcfost from a notebook, the mcfost output is displayed in the terminal, not in the notebook."
   ]
  },
  {
   "cell_type": "code",
   "execution_count": null,
   "metadata": {},
   "outputs": [],
   "source": [
    "mcfost.run(\"/Users/cpinte/mcfost/src/ref4.0.para\", delete_previous=True)"
   ]
  },
  {
   "cell_type": "markdown",
   "metadata": {},
   "source": [
    "### Reading the model and plotting the temperature map and SED\n",
    "\n",
    "\n",
    "We first read the model:\n"
   ]
  },
  {
   "cell_type": "code",
   "execution_count": null,
   "metadata": {},
   "outputs": [],
   "source": [
    "model = mcfost.SED(\"./data_th/\")"
   ]
  },
  {
   "cell_type": "markdown",
   "metadata": {},
   "source": [
    "We can acces the parameter file values via model.P and display them:"
   ]
  },
  {
   "cell_type": "code",
   "execution_count": null,
   "metadata": {},
   "outputs": [],
   "source": [
    "print(model.P)"
   ]
  },
  {
   "cell_type": "markdown",
   "metadata": {},
   "source": [
    " and plot the temperature structure:\n"
   ]
  },
  {
   "cell_type": "code",
   "execution_count": null,
   "metadata": {},
   "outputs": [],
   "source": [
    "model.plot_T()"
   ]
  },
  {
   "cell_type": "markdown",
   "metadata": {},
   "source": [
    "a \"log\" view makes it easier to see the temperature structure:"
   ]
  },
  {
   "cell_type": "code",
   "execution_count": null,
   "metadata": {},
   "outputs": [],
   "source": [
    "model.plot_T(log=True)"
   ]
  },
  {
   "cell_type": "markdown",
   "metadata": {},
   "source": [
    "We can also plot the SED for the 1st inclination:"
   ]
  },
  {
   "cell_type": "code",
   "execution_count": null,
   "metadata": {},
   "outputs": [],
   "source": [
    "model.plot(0)"
   ]
  },
  {
   "cell_type": "markdown",
   "metadata": {},
   "source": [
    "The SED above is a bit noisy in the mid-infrared, we can increase the number of packets by a factor 10, and re-run the model. We also use a blackbody for the star instead of a proper spectrum."
   ]
  },
  {
   "cell_type": "code",
   "execution_count": null,
   "metadata": {},
   "outputs": [],
   "source": [
    "import copy\n",
    "P = copy.copy(model.P)\n",
    "P.phot.nphot_SED *= 10     # 10 times fmore packets for the SED\n",
    "P.stars[0].is_bb = False   # we do not want the star to be a black-body\n",
    "P.writeto(\"tmp.para\")\n",
    "mcfost.run(\"tmp.para\", delete_previous=True)  # We need to recompute everything because we changed the star"
   ]
  },
  {
   "cell_type": "markdown",
   "metadata": {},
   "source": [
    "Let's read the new model and plot it again.\n",
    "\n",
    "We can also plot the various contribution:\n",
    " - pink : direct stellar light\n",
    " - blue : scattered stellar light\n",
    " - red : direct thermal emission\n",
    " - green : scattered thermal emission"
   ]
  },
  {
   "cell_type": "code",
   "execution_count": null,
   "metadata": {},
   "outputs": [],
   "source": [
    "model = mcfost.SED(\"./data_th/\")\n",
    "model.plot(0, contrib=True)\n",
    "plt.ylim(5e-16,5e-12)   # we reduce the range on the y axis"
   ]
  },
  {
   "cell_type": "markdown",
   "metadata": {},
   "source": [
    "## Scattered light images and polarisation maps\n",
    "\n",
    "We can compute scattered-light images at 1micron and plot the corresponding maps."
   ]
  },
  {
   "cell_type": "code",
   "execution_count": null,
   "metadata": {
    "scrolled": true
   },
   "outputs": [],
   "source": [
    "mcfost.run(\"/Users/cpinte/mcfost/src/ref4.0.para\",options = \"-img 1.0\")\n",
    "\n",
    "image_1mum = mcfost.Image(\"./data_1.0/\")\n",
    "\n",
    "fig, axes = plt.subplots(nrows=1, ncols=3, figsize=(15,4))\n",
    "cbar = False\n",
    "no_ylabel = False\n",
    "for i in range(3):\n",
    "    if i==2:\n",
    "        cbar=True\n",
    "    if i>0:\n",
    "        no_ylabel=True\n",
    "    image_1mum.plot(i, ax=axes[i], vmax=1e-15, colorbar=cbar, no_ylabel=no_ylabel)"
   ]
  },
  {
   "cell_type": "markdown",
   "metadata": {},
   "source": [
    "We can also plot the corresponding polarisation maps, for instance the Qphi map with overlayed polarisation vectors:"
   ]
  },
  {
   "cell_type": "code",
   "execution_count": null,
   "metadata": {
    "scrolled": true
   },
   "outputs": [],
   "source": [
    "fig, axes = plt.subplots(nrows=1, ncols=3, figsize=(15,4))\n",
    "cbar = False\n",
    "no_ylabel = False\n",
    "for i in range(3):\n",
    "    if i>0:\n",
    "        no_ylabel=True\n",
    "    image_1mum.plot(i, ax=axes[i], type=\"Qphi\", vmax=1e-15, colorbar=cbar,\n",
    "                    no_ylabel=no_ylabel, pola_vector=True, nbin=15)"
   ]
  },
  {
   "cell_type": "markdown",
   "metadata": {},
   "source": [
    "We can also calculate an image at sub-mm wzvelengths, for example for ALMA Band 6:"
   ]
  },
  {
   "cell_type": "code",
   "execution_count": null,
   "metadata": {
    "scrolled": true
   },
   "outputs": [],
   "source": [
    "mcfost.run(\"/Users/cpinte/mcfost/src/ref4.0.para\",options = \"-img 1300\")\n",
    "image_1mm  = mcfost.Image(\"./data_1300/\")"
   ]
  },
  {
   "cell_type": "code",
   "execution_count": null,
   "metadata": {},
   "outputs": [],
   "source": [
    "fig.clf()\n",
    "fig, axes = plt.subplots(nrows=1, ncols=3, figsize=(15,4))\n",
    "\n",
    "cbar = False\n",
    "no_ylabel = False\n",
    "for i in range(3):\n",
    "    if i==2:\n",
    "        cbar=True\n",
    "    if i>0:\n",
    "        no_ylabel=True\n",
    "    image_1mm.plot(i, ax=axes[i], Tb=True, colorbar=cbar, no_ylabel=no_ylabel, vmax=30)"
   ]
  },
  {
   "cell_type": "markdown",
   "metadata": {},
   "source": [
    "and the corresponding 12CO cubes with the `-mol` option. \n",
    "We can skip the temperature calculation with `-no_T`, as we did it before for the SED."
   ]
  },
  {
   "cell_type": "code",
   "execution_count": null,
   "metadata": {},
   "outputs": [],
   "source": [
    "mcfost.run(\"/Users/cpinte/mcfost/src/ref4.0.para\",options = \"-no_T -mol\")"
   ]
  },
  {
   "cell_type": "code",
   "execution_count": null,
   "metadata": {},
   "outputs": [],
   "source": [
    "mol = mcfost.Line(\"./data_CO/\")"
   ]
  },
  {
   "cell_type": "markdown",
   "metadata": {},
   "source": [
    "We can plot the integrated line profile:"
   ]
  },
  {
   "cell_type": "code",
   "execution_count": null,
   "metadata": {},
   "outputs": [],
   "source": [
    "mol.plot_line(2)"
   ]
  },
  {
   "cell_type": "markdown",
   "metadata": {},
   "source": [
    "or a given channel at velocity = 0.5km/s from systemic velocity"
   ]
  },
  {
   "cell_type": "code",
   "execution_count": null,
   "metadata": {},
   "outputs": [],
   "source": [
    "mol.plot_map(2,v=0.5, Tb=True)"
   ]
  },
  {
   "cell_type": "markdown",
   "metadata": {},
   "source": [
    "or plot the same channel after spatial convolution by a circulat beam of 0.1\""
   ]
  },
  {
   "cell_type": "code",
   "execution_count": null,
   "metadata": {},
   "outputs": [],
   "source": [
    "mol.plot_map(2,v=0.5, bmaj=0.1, bmin=0.1, bpa=0, Tb=True)"
   ]
  },
  {
   "cell_type": "markdown",
   "metadata": {},
   "source": [
    "\n",
    "## Running a phantom model"
   ]
  },
  {
   "cell_type": "code",
   "execution_count": null,
   "metadata": {},
   "outputs": [],
   "source": []
  }
 ],
 "metadata": {
  "kernelspec": {
   "display_name": "Python 3 (ipykernel)",
   "language": "python",
   "name": "python3"
  },
  "language_info": {
   "codemirror_mode": {
    "name": "ipython",
    "version": 3
   },
   "file_extension": ".py",
   "mimetype": "text/x-python",
   "name": "python",
   "nbconvert_exporter": "python",
   "pygments_lexer": "ipython3",
   "version": "3.9.12"
  }
 },
 "nbformat": 4,
 "nbformat_minor": 2
}
